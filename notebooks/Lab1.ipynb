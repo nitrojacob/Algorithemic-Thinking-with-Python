{
 "cells": [
  {
   "cell_type": "markdown",
   "id": "18e95ab2",
   "metadata": {},
   "source": [
    "Lab1 Concentrates on first 3 experiments of syllabus\n",
    "a) Demonstrate about Basics of Python Programming\n",
    "b) Demonstrate about fundamental Data types in Python Programming\n",
    "c) Demonstrate different Arithmetic Operations on numbers in Python\n",
    "The objective is to familiarise students without computer background to make simple programs using python."
   ]
  },
  {
   "cell_type": "markdown",
   "id": "a8d71f45",
   "metadata": {},
   "source": [
    "# 1. Find whether given number is odd or even"
   ]
  },
  {
   "cell_type": "code",
   "execution_count": 2,
   "id": "20baaa0b",
   "metadata": {},
   "outputs": [
    {
     "name": "stdout",
     "output_type": "stream",
     "text": [
      "Odd\n"
     ]
    }
   ],
   "source": [
    "num = 5\n",
    "if num % 2 == 1:\n",
    "    print(\"Odd\")\n",
    "else:\n",
    "    print(\"Even\")"
   ]
  },
  {
   "cell_type": "code",
   "execution_count": 3,
   "id": "53dbd30d",
   "metadata": {},
   "outputs": [
    {
     "name": "stdout",
     "output_type": "stream",
     "text": [
      "Enter number:4\n",
      "<class 'str'>\n"
     ]
    }
   ],
   "source": [
    "#This is how you write comments in python. Comments are for humans to read. Computer will not read your comments!\n",
    "#Lets try to input the number from user. Let's first see what input() function return type is?\n",
    "num = input(\"Enter number:\")\n",
    "print(type(num))"
   ]
  },
  {
   "cell_type": "code",
   "execution_count": 4,
   "id": "19857777",
   "metadata": {},
   "outputs": [
    {
     "name": "stdout",
     "output_type": "stream",
     "text": [
      "Enter number:4\n",
      "44\n"
     ]
    }
   ],
   "source": [
    "#Its a string. We cannot do mathematical operations on it. So if we do num+num we get concatenation instead of sum\n",
    "num = input(\"Enter number:\")\n",
    "print(num+num)"
   ]
  },
  {
   "cell_type": "code",
   "execution_count": 5,
   "id": "52d9924c",
   "metadata": {},
   "outputs": [
    {
     "name": "stdout",
     "output_type": "stream",
     "text": [
      "Enter number:5\n",
      "<class 'int'>\n",
      "10\n"
     ]
    }
   ],
   "source": [
    "#Let's use builtin function int() to convert type. input(), print() & type() are other builtin functions\n",
    "num = input(\"Enter number:\")\n",
    "num_i = int(num)\n",
    "print(type(num_i))\n",
    "print(num_i + num_i)"
   ]
  },
  {
   "cell_type": "code",
   "execution_count": 6,
   "id": "901daa5e",
   "metadata": {},
   "outputs": [
    {
     "name": "stdout",
     "output_type": "stream",
     "text": [
      "Enter number:5\n",
      "Odd\n"
     ]
    }
   ],
   "source": [
    "#Let's now do the full program\n",
    "num=int(input(\"Enter number:\"))\n",
    "if num % 2 == 1:\n",
    "    print(\"Odd\")\n",
    "else:\n",
    "    print(\"Even\")"
   ]
  },
  {
   "cell_type": "markdown",
   "id": "eab9c340",
   "metadata": {},
   "source": [
    "# 2. Display the lowest of the two numbers given"
   ]
  },
  {
   "cell_type": "code",
   "execution_count": 19,
   "id": "83d463d1",
   "metadata": {},
   "outputs": [],
   "source": [
    "#Inputs\n",
    "num1 = 5\n",
    "num2 = 7"
   ]
  },
  {
   "cell_type": "code",
   "execution_count": 20,
   "id": "4b897218",
   "metadata": {},
   "outputs": [
    {
     "name": "stdout",
     "output_type": "stream",
     "text": [
      "77 is the lowest\n"
     ]
    }
   ],
   "source": [
    "#Program\n",
    "if num1 < num2:\n",
    "    print(num1, \"is the lowest\")\n",
    "else:\n",
    "    print(num2, \"is the lowest\")\n"
   ]
  },
  {
   "cell_type": "code",
   "execution_count": 12,
   "id": "6f2cdc36",
   "metadata": {},
   "outputs": [
    {
     "name": "stdout",
     "output_type": "stream",
     "text": [
      "5.0 is the lowest\n"
     ]
    }
   ],
   "source": [
    "#Another solution: Less typing\n",
    "if num1 < num2:\n",
    "    lowest = num1\n",
    "else:\n",
    "    lowest = num2\n",
    "print(lowest, \"is the lowest\")"
   ]
  },
  {
   "cell_type": "markdown",
   "id": "4f576bb5",
   "metadata": {},
   "source": [
    "#### EXERCISE: Now use other comparison operators like <= , >, >= to solve the problem."
   ]
  },
  {
   "cell_type": "markdown",
   "id": "aebb6a9e",
   "metadata": {},
   "source": [
    "#### EXERCISE: What happens if you change the type of num1 and num2 to float, string etc.? Observe the results."
   ]
  },
  {
   "cell_type": "code",
   "execution_count": null,
   "id": "375ca942",
   "metadata": {},
   "outputs": [],
   "source": [
    "#Floats\n",
    "#Inputs\n",
    "num1 = 5.0\n",
    "num2 = 7.0"
   ]
  },
  {
   "cell_type": "code",
   "execution_count": null,
   "id": "a215507c",
   "metadata": {},
   "outputs": [],
   "source": [
    "#Strings\n",
    "#Inputs\n",
    "num1 = \"5\"\n",
    "num2 = \"7\""
   ]
  },
  {
   "cell_type": "code",
   "execution_count": null,
   "id": "1c033331",
   "metadata": {},
   "outputs": [],
   "source": [
    "#Try this string also\n",
    "#Inputs\n",
    "num1 = \"55\"\n",
    "num2 = \"7\""
   ]
  },
  {
   "cell_type": "markdown",
   "id": "eadbe8f9",
   "metadata": {},
   "source": [
    "#### MORAL: String comparison works different from integer comparison"
   ]
  },
  {
   "cell_type": "markdown",
   "id": "6f8de445",
   "metadata": {},
   "source": [
    "# 3. Display the lowest of a list of numbers"
   ]
  },
  {
   "cell_type": "code",
   "execution_count": 22,
   "id": "a8f3f9d7",
   "metadata": {},
   "outputs": [],
   "source": [
    "#Define the input list\n",
    "L=[10, 5, 3, 2, 6, 7]"
   ]
  },
  {
   "cell_type": "code",
   "execution_count": 24,
   "id": "a97ec883",
   "metadata": {},
   "outputs": [
    {
     "name": "stdout",
     "output_type": "stream",
     "text": [
      "[10, 5, 3, 2, 6, 7]\n",
      "<class 'list'>\n"
     ]
    }
   ],
   "source": [
    "#Can we print the list? What will type() say?\n",
    "print(L)\n",
    "print(type(L))"
   ]
  },
  {
   "cell_type": "code",
   "execution_count": 25,
   "id": "b8b6c6ab",
   "metadata": {},
   "outputs": [
    {
     "name": "stdout",
     "output_type": "stream",
     "text": [
      "2\n"
     ]
    }
   ],
   "source": [
    "#Program\n",
    "lowest=L[0] #Assign zero'th element of list to variable lowest. Indexing a list\n",
    "for num in L:\n",
    "    if num < lowest:\n",
    "        lowest = num\n",
    "print(lowest)"
   ]
  },
  {
   "cell_type": "markdown",
   "id": "1e866be2",
   "metadata": {},
   "source": [
    "#### EXERCISE: Print just the 3rd element of the list."
   ]
  },
  {
   "cell_type": "markdown",
   "id": "ab5f7653",
   "metadata": {},
   "source": [
    "#### EXERCISE: Find the largest number in list"
   ]
  },
  {
   "cell_type": "markdown",
   "id": "9d0b0a75",
   "metadata": {},
   "source": [
    "![image](https://nustat.github.io/DataScience_Intro_python/datatypes.png)"
   ]
  },
  {
   "cell_type": "code",
   "execution_count": 29,
   "id": "010d1005",
   "metadata": {},
   "outputs": [
    {
     "name": "stdout",
     "output_type": "stream",
     "text": [
      "False\n",
      "<class 'bool'>\n"
     ]
    }
   ],
   "source": [
    "#Ok, we saw int, float, str and list. We will look at Tuple and Dictionary as need arises\n",
    "#What about Boolean and None?\n",
    "#Let's assign the comparison operator output to a variable and check it's type\n",
    "num1 = 5\n",
    "num2 = 7\n",
    "num1IsBig = num1 > num2\n",
    "print(num1IsBig)\n",
    "print(type(num1IsBig))"
   ]
  },
  {
   "cell_type": "code",
   "execution_count": 34,
   "id": "2fa19c0a",
   "metadata": {},
   "outputs": [
    {
     "name": "stdout",
     "output_type": "stream",
     "text": [
      "F\n",
      "<class 'bool'>\n"
     ]
    }
   ],
   "source": [
    "#Comparison results are of type boolean Possible values are True & False. Notice capital T and F. Also notice, that\n",
    "#it is not a string. ie. Not \"True\" or \"False\"\n",
    "result = False\n",
    "if result:\n",
    "    print(\"T\")\n",
    "else:\n",
    "    print(\"F\")\n",
    "print(type(result))"
   ]
  },
  {
   "cell_type": "markdown",
   "id": "53f7a73c",
   "metadata": {},
   "source": [
    "#### EXERCISE: Try giving small letter true and false"
   ]
  },
  {
   "cell_type": "code",
   "execution_count": 49,
   "id": "9634d7a0",
   "metadata": {},
   "outputs": [
    {
     "name": "stdout",
     "output_type": "stream",
     "text": [
      "None\n",
      "<class 'NoneType'>\n",
      "Enter Roll#:0\n",
      "0\n",
      "<class 'int'>\n"
     ]
    }
   ],
   "source": [
    "#Sometimes we want to create a variable. But not assign any valid value to it. That's where None type helps us\n",
    "\n",
    "#Here a fresh student may not yet have a roll number. So the advisor can enter blank roll no or a negative roll no\n",
    "# to not assign a roll number to the student\n",
    "roll = None\n",
    "print(roll)\n",
    "print(type(roll))\n",
    "num_s = input(\"Enter Roll#:\")\n",
    "if num_s != \"\":\n",
    "    roll = int(num_s)\n",
    "    if roll < 0:\n",
    "        roll = None\n",
    "print(roll)\n",
    "print(type(roll))\n",
    "if roll:\n",
    "    print(\"Has got roll no\")"
   ]
  },
  {
   "cell_type": "markdown",
   "id": "ecbfc218",
   "metadata": {},
   "source": [
    "The advantage of none type may not be very obvious with above example. But there are more advanced cases involving classes and member functions(object oriented and functional programming) where None type helps a lot in simplifying code..."
   ]
  },
  {
   "cell_type": "markdown",
   "id": "c92fe302",
   "metadata": {},
   "source": [
    "# 4. Find and display sum of all numbers of a list"
   ]
  },
  {
   "cell_type": "code",
   "execution_count": 51,
   "id": "cfa5646b",
   "metadata": {},
   "outputs": [
    {
     "name": "stdout",
     "output_type": "stream",
     "text": [
      "49\n"
     ]
    }
   ],
   "source": [
    "#Input\n",
    "L=[1, 3, 5, 7, 9, 11, 13]\n",
    "s = 0\n",
    "for item in L:\n",
    "    s = s + item\n",
    "print(s)"
   ]
  },
  {
   "cell_type": "markdown",
   "id": "63cd3686",
   "metadata": {},
   "source": [
    "#### EXERCISE: Try other arithmetic operators: +, - , *, /, **, //, %"
   ]
  },
  {
   "cell_type": "markdown",
   "id": "63a4cdac",
   "metadata": {},
   "source": [
    "# Following Programs are to develop the logic of students, and should be solved by students using already learned python syntax"
   ]
  },
  {
   "cell_type": "markdown",
   "id": "6791297e",
   "metadata": {},
   "source": [
    "# 5. Find the lowest odd number in a list"
   ]
  },
  {
   "cell_type": "markdown",
   "id": "76f36b76",
   "metadata": {},
   "source": [
    "# 6. Count the number of odd numbers in a list"
   ]
  },
  {
   "cell_type": "markdown",
   "id": "bd710b4b",
   "metadata": {},
   "source": [
    "# 7. Find sum of every alternate number in a list"
   ]
  },
  {
   "cell_type": "markdown",
   "id": "6da21e8a",
   "metadata": {},
   "source": [
    "# 8. Find sum of all odd numbers in a list"
   ]
  },
  {
   "cell_type": "markdown",
   "id": "8f4aa51a",
   "metadata": {},
   "source": [
    "# 9. Find factorial of a number"
   ]
  },
  {
   "cell_type": "markdown",
   "id": "ef09f543",
   "metadata": {},
   "source": [
    "# 10. Find all prime numbers less than a given N"
   ]
  }
 ],
 "metadata": {
  "kernelspec": {
   "display_name": "Python 3 (ipykernel)",
   "language": "python",
   "name": "python3"
  },
  "language_info": {
   "codemirror_mode": {
    "name": "ipython",
    "version": 3
   },
   "file_extension": ".py",
   "mimetype": "text/x-python",
   "name": "python",
   "nbconvert_exporter": "python",
   "pygments_lexer": "ipython3",
   "version": "3.12.3"
  }
 },
 "nbformat": 4,
 "nbformat_minor": 5
}
