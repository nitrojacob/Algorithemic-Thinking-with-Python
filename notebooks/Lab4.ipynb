{
 "cells": [
  {
   "cell_type": "markdown",
   "id": "abebc8a9",
   "metadata": {},
   "source": [
    "Lab 4:\n",
    "\n",
    "Covers following Experiments in Syllabus\n",
    "\n",
    "15. Program that accepts the lengths of three sides of a triangle as inputs. The program output should indicate whether or not the triangle is a right triangle\n",
    "\n",
    "16. Program to define a module to find Fibonacci Numbers and import the module to another Program. Compare speed of recursive and DP fibonacci functions\n",
    "\n",
    "17. Create a module and import functions from that module.\n",
    "\n",
    "18. Program to check whether the given number is a valid mobile number or not using functions\n",
    "Rules: Every number should contain exactly 10 digits. The first digit should be 7/8/9"
   ]
  },
  {
   "cell_type": "code",
   "execution_count": 5,
   "id": "603d187b",
   "metadata": {},
   "outputs": [
    {
     "name": "stdout",
     "output_type": "stream",
     "text": [
      "How many primes to print?5\n",
      "1\n",
      "2\n",
      "3\n",
      "5\n",
      "7\n"
     ]
    }
   ],
   "source": [
    "'''Create a file prime.py in the current directory and define a function is_prime(n) inside that file.\n",
    "Let's try to import the function and use it here.'''\n",
    "\n",
    "from prime import is_prime\n",
    "n = int(input('How many primes to print?'))\n",
    "i=1\n",
    "while True:\n",
    "    if is_prime(i):\n",
    "        print(i)\n",
    "        n -= 1\n",
    "        if n<=0:\n",
    "            break\n",
    "    i+=1"
   ]
  },
  {
   "cell_type": "code",
   "execution_count": 6,
   "id": "f42724ab",
   "metadata": {},
   "outputs": [
    {
     "data": {
      "text/plain": [
       "False"
      ]
     },
     "execution_count": 6,
     "metadata": {},
     "output_type": "execute_result"
    }
   ],
   "source": [
    "is_prime(4)"
   ]
  },
  {
   "cell_type": "markdown",
   "id": "6adad8ce",
   "metadata": {},
   "source": [
    "## Comparison of recursion and dynamic programming"
   ]
  },
  {
   "cell_type": "code",
   "execution_count": 9,
   "id": "6db1b606",
   "metadata": {},
   "outputs": [],
   "source": [
    "#Fibonacci using plain recursion\n",
    "def fib_rec(n):\n",
    "    if n<=1:\n",
    "        return n\n",
    "    else:\n",
    "        return fib_rec(n-1)+fib_rec(n-2)"
   ]
  },
  {
   "cell_type": "code",
   "execution_count": 14,
   "id": "bb56a85f",
   "metadata": {},
   "outputs": [],
   "source": [
    "#Fibonacci using Dynamic programming\n",
    "def fib_dp(n, memo={}):\n",
    "    if n<=1:\n",
    "        memo[n] = n\n",
    "    elif n in memo:\n",
    "        pass\n",
    "    else:\n",
    "        memo[n] = fib_dp(n-1) + fib_dp(n-2)\n",
    "    return memo[n]"
   ]
  },
  {
   "cell_type": "code",
   "execution_count": 25,
   "id": "213d5cef",
   "metadata": {},
   "outputs": [
    {
     "name": "stdout",
     "output_type": "stream",
     "text": [
      "102334155\n",
      "Compute time(recursive) 0:00:10.824791\n",
      "102334155\n",
      "Compute time(dynamic programming) 0:00:00.000047\n"
     ]
    }
   ],
   "source": [
    "from datetime import datetime\n",
    "#for i in range(10):\n",
    "#    print(fib_rec(i))\n",
    "\n",
    "#Compute time for recursive function\n",
    "start = datetime.now()\n",
    "print(fib_rec(40))\n",
    "stop = datetime.now()\n",
    "print(\"Compute time(recursive)\", stop-start)\n",
    "\n",
    "#Compute time for the dynamic programming function\n",
    "start = datetime.now()\n",
    "print(fib_dp(40))\n",
    "stop = datetime.now()\n",
    "print(\"Compute time(dynamic programming)\", stop-start)"
   ]
  }
 ],
 "metadata": {
  "kernelspec": {
   "display_name": "Python 3 (ipykernel)",
   "language": "python",
   "name": "python3"
  },
  "language_info": {
   "codemirror_mode": {
    "name": "ipython",
    "version": 3
   },
   "file_extension": ".py",
   "mimetype": "text/x-python",
   "name": "python",
   "nbconvert_exporter": "python",
   "pygments_lexer": "ipython3",
   "version": "3.12.3"
  }
 },
 "nbformat": 4,
 "nbformat_minor": 5
}
