{
 "cells": [
  {
   "cell_type": "markdown",
   "id": "1f0c859c",
   "metadata": {},
   "source": [
    "Lab Day 2: Experiments 4 to 8 of GroupB syllabus\n",
    "* 4. Create, concatenate, and print a string and access a sub-string from a given string\n",
    "* 5. Familiarize time and date in various formats\n",
    "* 6. Write a program to create, append, and remove lists in Python using numpy\n",
    "* 7. Program to find the largest of three numbers\n",
    "* 8. Convert temperatures to and from Celsius and Fahrenheit."
   ]
  },
  {
   "cell_type": "markdown",
   "id": "15d170d7",
   "metadata": {},
   "source": [
    "# String Concatenation, slicing"
   ]
  },
  {
   "cell_type": "code",
   "execution_count": 16,
   "id": "bc96d080",
   "metadata": {},
   "outputs": [
    {
     "name": "stdout",
     "output_type": "stream",
     "text": [
      "Enter your first name: Jacob\n",
      "Enter your last name: Mathew\n"
     ]
    }
   ],
   "source": [
    "'''Following code is an adapted version of stringdemo.py in the home directory by Prof. Sarju S.'''\n",
    "# Define the first and last names\n",
    "first_name = input(\"Enter your first name: \")\n",
    "last_name = input(\"Enter your last name: \")"
   ]
  },
  {
   "cell_type": "code",
   "execution_count": 31,
   "id": "6cd6efac",
   "metadata": {},
   "outputs": [
    {
     "name": "stdout",
     "output_type": "stream",
     "text": [
      "Concatenated string:  Jacob Mathew\n"
     ]
    }
   ],
   "source": [
    "# Concatenate the first and last name with a space\n",
    "full_name = first_name + \" \" + last_name\n",
    "\n",
    "# Print the concatenated string\n",
    "print(\"Concatenated string: \", full_name)"
   ]
  },
  {
   "cell_type": "code",
   "execution_count": 20,
   "id": "f2482951",
   "metadata": {},
   "outputs": [
    {
     "name": "stdout",
     "output_type": "stream",
     "text": [
      "Jac\n"
     ]
    }
   ],
   "source": [
    "#If in need to print the first 3 letters; ie index 0,1,2\n",
    "beginning=full_name[:3]\n",
    "print(beginning)"
   ]
  },
  {
   "cell_type": "code",
   "execution_count": 22,
   "id": "af40edbf",
   "metadata": {},
   "outputs": [
    {
     "name": "stdout",
     "output_type": "stream",
     "text": [
      "ob\n"
     ]
    }
   ],
   "source": [
    "#print next 2 letters; ie index 3,4\n",
    "print(full_name[3:5])"
   ]
  },
  {
   "cell_type": "code",
   "execution_count": 23,
   "id": "f46b6e64",
   "metadata": {},
   "outputs": [
    {
     "name": "stdout",
     "output_type": "stream",
     "text": [
      " Mathew\n"
     ]
    }
   ],
   "source": [
    "#print rest of the name\n",
    "print(full_name[5:])"
   ]
  },
  {
   "cell_type": "code",
   "execution_count": 24,
   "id": "52121b52",
   "metadata": {},
   "outputs": [
    {
     "name": "stdout",
     "output_type": "stream",
     "text": [
      "JcbMte\n"
     ]
    }
   ],
   "source": [
    "#print every alternate alphabet\n",
    "print(full_name[::2])"
   ]
  },
  {
   "cell_type": "code",
   "execution_count": 26,
   "id": "16ceab8f",
   "metadata": {},
   "outputs": [
    {
     "name": "stdout",
     "output_type": "stream",
     "text": [
      "cbMt\n"
     ]
    }
   ],
   "source": [
    "#print from index 3rd, 5th, 7th and 9th characters\n",
    "print(full_name[2:10:2])"
   ]
  },
  {
   "cell_type": "code",
   "execution_count": 32,
   "id": "3c5fc2cd",
   "metadata": {},
   "outputs": [
    {
     "name": "stdout",
     "output_type": "stream",
     "text": [
      "Sub-string (last name):  Mathew\n"
     ]
    }
   ],
   "source": [
    "# Access and print the sub-string (last name only)\n",
    "length_of_first_name=len(first_name)\n",
    "last_name_substring = full_name[length_of_first_name+ 1:]\n",
    "print(\"Sub-string (last name): \", last_name_substring)"
   ]
  },
  {
   "cell_type": "code",
   "execution_count": 2,
   "id": "b58b7448",
   "metadata": {},
   "outputs": [
    {
     "name": "stdout",
     "output_type": "stream",
     "text": [
      "Enter Full name:Jacob Mathew\n",
      "['Jacob', 'Mathew']\n"
     ]
    }
   ],
   "source": [
    "full_name = input(\"Enter Full name:\")\n",
    "\n",
    "#Split the name at places where spaces occur\n",
    "parts = full_name.split(\" \")\n",
    "print(parts)"
   ]
  },
  {
   "cell_type": "code",
   "execution_count": 3,
   "id": "8003e80a",
   "metadata": {},
   "outputs": [
    {
     "name": "stdout",
     "output_type": "stream",
     "text": [
      "Jacob\n"
     ]
    }
   ],
   "source": [
    "#print the first split form the split that we did before\n",
    "print(parts[0])"
   ]
  },
  {
   "cell_type": "code",
   "execution_count": 6,
   "id": "d9c7d5fa",
   "metadata": {},
   "outputs": [
    {
     "name": "stdout",
     "output_type": "stream",
     "text": [
      "Enter a comma separated sequence of names:asdf,jklm,opq\n",
      "<class 'list'>\n",
      "3\n",
      "['asdf', 'jklm', 'opq']\n"
     ]
    }
   ],
   "source": [
    "#You can split a string using other characters also. Eg split using comma\n",
    "cs_list=input(\"Enter a comma separated sequence of names:\")\n",
    "parts = cs_list.split(\",\")\n",
    "print(type(parts))\n",
    "print(len(parts))\n",
    "print(parts)\n",
    "#We have now inputted a list from user!!"
   ]
  },
  {
   "cell_type": "code",
   "execution_count": 3,
   "id": "b1e29cc7",
   "metadata": {},
   "outputs": [
    {
     "name": "stdout",
     "output_type": "stream",
     "text": [
      "ATP-ATP-ATP-ATP-ATP-\n"
     ]
    }
   ],
   "source": [
    "#Ok.. so + does concatenation of two strings. What does * do?\n",
    "name=\"ATP-\"\n",
    "out=name*5\n",
    "print(out)"
   ]
  },
  {
   "cell_type": "code",
   "execution_count": 7,
   "id": "f4285829",
   "metadata": {},
   "outputs": [
    {
     "name": "stdout",
     "output_type": "stream",
     "text": [
      "\n",
      "-\n",
      "--\n",
      "---\n",
      "----\n",
      "-----\n",
      "------\n",
      "-------\n",
      "--------\n",
      "---------\n"
     ]
    }
   ],
   "source": [
    "#(Multiplication is repeated addition/concatenation). let's see what this gives\n",
    "for i in range(10):\n",
    "    print('-' * i)"
   ]
  },
  {
   "cell_type": "code",
   "execution_count": 12,
   "id": "2059d0e0",
   "metadata": {},
   "outputs": [
    {
     "name": "stdout",
     "output_type": "stream",
     "text": [
      "          -\n",
      "         ---\n",
      "        -----\n",
      "       -------\n",
      "      ---------\n",
      "     -----------\n",
      "    -------------\n",
      "   ---------------\n",
      "  -----------------\n",
      " -------------------\n"
     ]
    }
   ],
   "source": [
    "#EXERCISE: Can you print an isosceles triangle of height n? Hint use ' '*(n-i) + '-'*(2i+1)"
   ]
  },
  {
   "cell_type": "code",
   "execution_count": null,
   "id": "96315f92",
   "metadata": {},
   "outputs": [],
   "source": [
    "#EXERCISE: Inverted pyramids anyone? Hint use range(n,0,-1)? Any other way?"
   ]
  },
  {
   "cell_type": "markdown",
   "id": "b8923c0b",
   "metadata": {},
   "source": [
    "# List concatenation, slicing"
   ]
  },
  {
   "cell_type": "code",
   "execution_count": 14,
   "id": "ceec28e9",
   "metadata": {},
   "outputs": [
    {
     "name": "stdout",
     "output_type": "stream",
     "text": [
      "[1, 2, 3, 4, 5, 6]\n",
      "[1, 2, 3, 1, 2, 3, 1, 2, 3]\n"
     ]
    }
   ],
   "source": [
    "#Most of what you did for strings can be used for lists also\n",
    "L1=[1,2,3]\n",
    "L2=[4,5,6]\n",
    "print(L1+L2) #Concatenation of lists\n",
    "print(L1*3)  #Repeated self concatenation of lists; L1*3 = L1+L1+L1"
   ]
  },
  {
   "cell_type": "code",
   "execution_count": 27,
   "id": "0911b262",
   "metadata": {},
   "outputs": [
    {
     "name": "stdout",
     "output_type": "stream",
     "text": [
      "[0, 1]\n"
     ]
    }
   ],
   "source": [
    "#EXERCISE: Try slicing [start:stop:step] to print various sub parts of the list L=[0,1,2,3,4,5,6,7,8,9,10]\n",
    "#eg: first to elements\n",
    "L=[0,1,2,3,4,5,6,7,8,9,10]\n",
    "print(L[:2])"
   ]
  },
  {
   "cell_type": "code",
   "execution_count": 30,
   "id": "59e8e741",
   "metadata": {},
   "outputs": [
    {
     "name": "stdout",
     "output_type": "stream",
     "text": [
      "9\n",
      "[9, 10]\n"
     ]
    }
   ],
   "source": [
    "#Negative inices can also be given inside slice operation\n",
    "print(L[-2])\n",
    "print(L[-2:])"
   ]
  },
  {
   "cell_type": "markdown",
   "id": "043f05a6",
   "metadata": {},
   "source": [
    "# Date and Time\n",
    "Following code is an adapted version of datetimedemo.py in the home directory by Prof. Sarju S.\n",
    "\n",
    "Here we use the datetime module. Modules are another technique in python for modularity. A module is a set of related functions and datatypes that are functionally related to each other.\n",
    "eg: datetime module provides a lot of functions to get current time, convert time between formats, and many other functions related to date and time managment in computers.\n",
    "numpy module provides a lot of numerical method functions for scientific/engineering computations.\n",
    "\n",
    "To use the functions in a module you have to import it first. There are several formats to import a module\n",
    "\n",
    "import datetime\n",
    "\n",
    "import datetime as dt\n",
    "\n",
    "from datetime import datetime\n",
    "\n",
    "Each line has import keyword. More on these various formats in lecture class, after we learn functions"
   ]
  },
  {
   "cell_type": "code",
   "execution_count": 71,
   "id": "b79bf002",
   "metadata": {},
   "outputs": [
    {
     "name": "stdout",
     "output_type": "stream",
     "text": [
      "Current date and time: 2024-11-07 11:35:43.922184\n",
      "<class 'datetime.datetime'>\n"
     ]
    }
   ],
   "source": [
    "from datetime import datetime\n",
    "\n",
    "# Get the current date and time\n",
    "current_time = datetime.now()\n",
    "\n",
    "# Display the current date and time\n",
    "print(\"Current date and time:\", current_time)\n",
    "print(type(current_time))"
   ]
  },
  {
   "cell_type": "code",
   "execution_count": 73,
   "id": "ecf0bc10",
   "metadata": {},
   "outputs": [
    {
     "name": "stdout",
     "output_type": "stream",
     "text": [
      "Format [YYYY-MM-DD HH:MM:SS]: 2024-11-07 11:35:43\n"
     ]
    }
   ],
   "source": [
    "# Display in the format [YYYY-MM-DD HH:MM:SS]\n",
    "'''strftime() is a POSIX standard function, implemented across various operating systems, in various languages like C, python etc.\n",
    "The formatting codes are hence standard across many languages. You can get more details about the formatting codes\n",
    "using man strftime on any unix/linux terminal, or by searching in the internet'''\n",
    "\n",
    "formatted_1 = current_time.strftime(\"%Y-%m-%d %H:%M:%S\")\n",
    "print(\"Format [YYYY-MM-DD HH:MM:SS]:\", formatted_1)"
   ]
  },
  {
   "cell_type": "code",
   "execution_count": 61,
   "id": "5c86e87a",
   "metadata": {},
   "outputs": [
    {
     "name": "stdout",
     "output_type": "stream",
     "text": [
      "Format [MM/DD/YYYY]: 11/07/2024\n"
     ]
    }
   ],
   "source": [
    "# Display in the format [MM/DD/YYYY]\n",
    "formatted_2 = current_time.strftime(\"%m/%d/%Y\")\n",
    "print(\"Format [MM/DD/YYYY]:\", formatted_2)"
   ]
  },
  {
   "cell_type": "code",
   "execution_count": 63,
   "id": "f3e2d465",
   "metadata": {},
   "outputs": [
    {
     "name": "stdout",
     "output_type": "stream",
     "text": [
      "Format [Day, Month DD, YYYY]: Thursday, November 07, 2024\n"
     ]
    }
   ],
   "source": [
    "# Display in the format [Day, Month DD, YYYY]\n",
    "formatted_3 = current_time.strftime(\"%A, %B %d, %Y\")\n",
    "print(\"Format [Day, Month DD, YYYY]:\", formatted_3)"
   ]
  },
  {
   "cell_type": "code",
   "execution_count": 64,
   "id": "cf6fbe93",
   "metadata": {},
   "outputs": [
    {
     "name": "stdout",
     "output_type": "stream",
     "text": [
      "Format [Day, Month DD, YYYY HH:MM:SS AM/PM]: Thursday, November 07, 2024 11:35:00 AM\n"
     ]
    }
   ],
   "source": [
    "# Display in the format [Day, Month DD, YYYY HH:MM:SS AM/PM]\n",
    "formatted_4 = current_time.strftime(\"%A, %B %d, %Y %I:%M:%S %p\")\n",
    "print(\"Format [Day, Month DD, YYYY HH:MM:SS AM/PM]:\", formatted_4)"
   ]
  },
  {
   "cell_type": "code",
   "execution_count": 65,
   "id": "9600cd03",
   "metadata": {},
   "outputs": [
    {
     "name": "stdout",
     "output_type": "stream",
     "text": [
      "Format [Abbr Weekday Name-Abbr Month Name-DD HH:MM:SS IST YYYY]: Thu-Nov-07 11:35:00  2024\n"
     ]
    }
   ],
   "source": [
    "# Format the date and time like \"Thu-Jul-11 10:26:23 IST 2024\"\n",
    "formatted_5 = current_time.strftime(\"%a-%b-%d %H:%M:%S %Z %Y\")\n",
    "print(\"Format [Abbr Weekday Name-Abbr Month Name-DD HH:MM:SS IST YYYY]:\", formatted_5)"
   ]
  },
  {
   "cell_type": "code",
   "execution_count": 66,
   "id": "a35efa54",
   "metadata": {},
   "outputs": [
    {
     "name": "stdout",
     "output_type": "stream",
     "text": [
      "ISO format: 2024-11-07T11:35:00.022833\n"
     ]
    }
   ],
   "source": [
    "# Display in ISO format\n",
    "formatted_6 = current_time.isoformat()\n",
    "print(\"ISO format:\", formatted_6)"
   ]
  },
  {
   "cell_type": "code",
   "execution_count": 67,
   "id": "0701c3cc",
   "metadata": {},
   "outputs": [
    {
     "name": "stdout",
     "output_type": "stream",
     "text": [
      "Date only: 2024-11-07\n"
     ]
    }
   ],
   "source": [
    "# Display the date only\n",
    "date_only = current_time.strftime(\"%Y-%m-%d\")\n",
    "print(\"Date only:\", date_only)"
   ]
  },
  {
   "cell_type": "code",
   "execution_count": 68,
   "id": "6a4aedf7",
   "metadata": {},
   "outputs": [
    {
     "name": "stdout",
     "output_type": "stream",
     "text": [
      "Time only: 11:35:00\n"
     ]
    }
   ],
   "source": [
    "# Display the time only\n",
    "time_only = current_time.strftime(\"%H:%M:%S\")\n",
    "print(\"Time only:\", time_only)"
   ]
  },
  {
   "cell_type": "code",
   "execution_count": 69,
   "id": "641f5d8f",
   "metadata": {},
   "outputs": [
    {
     "name": "stdout",
     "output_type": "stream",
     "text": [
      "Month only: November\n"
     ]
    }
   ],
   "source": [
    "# Display the month only\n",
    "month_only = current_time.strftime(\"%B\")\n",
    "print(\"Month only:\", month_only)"
   ]
  },
  {
   "cell_type": "code",
   "execution_count": 70,
   "id": "e230d3a6",
   "metadata": {},
   "outputs": [
    {
     "name": "stdout",
     "output_type": "stream",
     "text": [
      "Year only: 2024\n"
     ]
    }
   ],
   "source": [
    "# Display the year only\n",
    "year_only = current_time.strftime(\"%Y\")\n",
    "print(\"Year only:\", year_only)"
   ]
  },
  {
   "cell_type": "markdown",
   "id": "8355d693",
   "metadata": {},
   "source": [
    "# Numpy Arrays\n",
    "numpy module provides a lot of numerical method functions for scientific/engineering computations. If the import step fails probably numpy is not installed. In that case skip this section.\n",
    "\n",
    "Let's look at some of the matrix computations"
   ]
  },
  {
   "cell_type": "code",
   "execution_count": 92,
   "id": "d68a88d9",
   "metadata": {},
   "outputs": [
    {
     "name": "stdout",
     "output_type": "stream",
     "text": [
      "[1 2 3 4]\n",
      "(4,)\n",
      "<class 'numpy.ndarray'>\n"
     ]
    }
   ],
   "source": [
    "import numpy as np\n",
    "#CREATION: Let's define a 4 element vector (Similar to a list but not exactly the same)\n",
    "x=np.array([1,2,3,4])\n",
    "print(x)\n",
    "print(x.shape)\n",
    "print(type(x))"
   ]
  },
  {
   "cell_type": "code",
   "execution_count": 98,
   "id": "970e6dad",
   "metadata": {},
   "outputs": [
    {
     "name": "stdout",
     "output_type": "stream",
     "text": [
      "[2 4 6 8]\n",
      "[1 2 3 4 1 2 3 4]\n"
     ]
    }
   ],
   "source": [
    "#APPENDING\n",
    "#Adding two lists concatenates them. But adding 2 numpy arrays does vector addition\n",
    "print(x+x)\n",
    "#We need to use the np.concatenate() function to do concatenation of numpy arrays\n",
    "y=np.concatenate((x,x))\n",
    "print(y)"
   ]
  },
  {
   "cell_type": "code",
   "execution_count": 102,
   "id": "93abce05",
   "metadata": {},
   "outputs": [
    {
     "name": "stdout",
     "output_type": "stream",
     "text": [
      "[4 1]\n",
      "[1 3 1 3]\n",
      "<class 'numpy.ndarray'>\n"
     ]
    }
   ],
   "source": [
    "#EXTRACTING/Slicing: Similar to list\n",
    "#Print index 3 and 4\n",
    "print(y[3:5])\n",
    "#Print even indices (ie. index 0, 2, 4, 6..)\n",
    "print(y[::2])\n",
    "print(type(y[::2])) #Check that the slicing result is indeed a numpy array and not a list."
   ]
  },
  {
   "cell_type": "markdown",
   "id": "31d5ee22",
   "metadata": {},
   "source": [
    "At this level numpy looks like a second implementation of List. But the real power of numpy is its ability to handle large matrix operations really fast. Such detailed usage is outside the scope of a 1st year course. Just appreciate that numpy forms the basic building block of many scientific and machine learning applications."
   ]
  },
  {
   "cell_type": "markdown",
   "id": "2afa8a87",
   "metadata": {},
   "source": [
    "# Student Exercise\n",
    "To be performed independently by students."
   ]
  },
  {
   "cell_type": "code",
   "execution_count": null,
   "id": "65e10184",
   "metadata": {},
   "outputs": [],
   "source": [
    "#EXERCISE: Programs to find the largest of three numbers"
   ]
  },
  {
   "cell_type": "code",
   "execution_count": null,
   "id": "43c73459",
   "metadata": {},
   "outputs": [],
   "source": [
    "#EXERCISE: Convert temperatures from fahrenheit to celsius. Formula c/5 = (f-32)/9"
   ]
  },
  {
   "cell_type": "code",
   "execution_count": null,
   "id": "c22343ca",
   "metadata": {},
   "outputs": [],
   "source": [
    "#EXERCISE: Convert temperatures from celsius to fahrenheit. Formula c/5 = (f-32)/9"
   ]
  }
 ],
 "metadata": {
  "kernelspec": {
   "display_name": "Python 3 (ipykernel)",
   "language": "python",
   "name": "python3"
  },
  "language_info": {
   "codemirror_mode": {
    "name": "ipython",
    "version": 3
   },
   "file_extension": ".py",
   "mimetype": "text/x-python",
   "name": "python",
   "nbconvert_exporter": "python",
   "pygments_lexer": "ipython3",
   "version": "3.12.3"
  }
 },
 "nbformat": 4,
 "nbformat_minor": 5
}
