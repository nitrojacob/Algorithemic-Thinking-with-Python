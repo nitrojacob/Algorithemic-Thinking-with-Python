{
 "cells": [
  {
   "cell_type": "markdown",
   "id": "a9bce92c",
   "metadata": {},
   "source": [
    "Lab Day 3: Focus is on nested loops, function definition and usage, recursion.\n",
    "\n",
    "Covers following experiments in GroupB syllabus\n",
    "\n",
    "9. Program to construct the stars (*) pattern, using nested for loop\n",
    "\n",
    "10. Program that prints prime numbers less than n\n",
    "\n",
    "11. Program to find the factorial of a number using Recursion\n",
    "\n",
    "12. Recursive function to add tow positive numbers\n",
    "\n",
    "13. Recursive function to multiply two positive numbers\n",
    "\n",
    "14. Recursive function to find the greatest common divisor (gcd) of two positive numbers\n",
    "\n",
    "Non-recursive version of factorial"
   ]
  },
  {
   "cell_type": "markdown",
   "id": "d82c6d8b",
   "metadata": {},
   "source": [
    "# Nested Loops and Star Patterns"
   ]
  },
  {
   "cell_type": "code",
   "execution_count": 1,
   "id": "2331d10b",
   "metadata": {},
   "outputs": [
    {
     "name": "stdout",
     "output_type": "stream",
     "text": [
      "          *\n",
      "         ***\n",
      "        *****\n",
      "       *******\n",
      "      *********\n",
      "     ***********\n",
      "    *************\n",
      "   ***************\n",
      "  *****************\n",
      " *******************\n"
     ]
    }
   ],
   "source": [
    "#Write a program that gives the same output as the following code using nested loops. You can print only one character at a time\n",
    "n=10\n",
    "for i in range(n):\n",
    "    print(' ' * (n-i)  + '*' * (2*i+1))\n"
   ]
  },
  {
   "cell_type": "code",
   "execution_count": 2,
   "id": "c4d46959",
   "metadata": {},
   "outputs": [
    {
     "name": "stdout",
     "output_type": "stream",
     "text": [
      "0\n",
      "1\n",
      "2\n",
      "3\n",
      "4\n",
      "5\n",
      "6\n",
      "7\n",
      "8\n",
      "9\n"
     ]
    }
   ],
   "source": [
    "#Implement the same using nested while loop\n",
    "#sample while loop syntax to print 10 numbers\n",
    "i=0\n",
    "while i<10:\n",
    "    print(i)\n",
    "    i += 1"
   ]
  },
  {
   "cell_type": "code",
   "execution_count": 3,
   "id": "91d7e190",
   "metadata": {},
   "outputs": [
    {
     "name": "stdout",
     "output_type": "stream",
     "text": [
      "0\n",
      "1\n",
      "2\n",
      "3\n",
      "4\n",
      "5\n",
      "6\n",
      "7\n",
      "8\n",
      "9\n"
     ]
    }
   ],
   "source": [
    "#Implement the same using do...while (C) or repeat...until loops\n",
    "#In python there is no separate syntax like other languages. We need to repurpose while\n",
    "#The difference with the regular while/for is that the first iteration always happen and without checking the loop condition in repeat..until loops\n",
    "i=0\n",
    "while True:       #We have an un-conditional while loop\n",
    "    print(i)\n",
    "    i += 1\n",
    "    if(i>=10):    #After all the statement in the while loop we have a condition check and a break statement to stop iteration.\n",
    "        break\n",
    "        "
   ]
  },
  {
   "cell_type": "code",
   "execution_count": 4,
   "id": "5f5d629c",
   "metadata": {},
   "outputs": [],
   "source": [
    "#Use above repeat..until structure to print the \"*\" pattern above."
   ]
  },
  {
   "cell_type": "markdown",
   "id": "3f779d9c",
   "metadata": {},
   "source": [
    "# Functions"
   ]
  },
  {
   "cell_type": "code",
   "execution_count": 5,
   "id": "c0785c29",
   "metadata": {},
   "outputs": [],
   "source": [
    "#a) Create a function to check whether a given number is prime or not. By dividing it will all numbers less than it and checking reminder\n",
    "#b) in a loop generate numbers 1...20 and call function created above to check it. Print if prime."
   ]
  },
  {
   "cell_type": "markdown",
   "id": "b3d0fc43",
   "metadata": {},
   "source": [
    "# Recursion"
   ]
  },
  {
   "cell_type": "markdown",
   "id": "bbda2493",
   "metadata": {},
   "source": [
    "1. Program to find factorial of a function using recursion (worked out in classroom)\n",
    "2. Program to recursively sum elements of a list (worked out in classroom)\n",
    "3. Recursive function to add two positive numbers using increment and decrement; (eg. s=a+b: while b>0: a+=1, b-=1)\n",
    "4. Recursive function to multiply two positive numbers (eg. p=a*b while b>0: p+=a, b-=1)\n",
    "5. Recursive function to find the gcd of two positive numbers (Recursive case: gcd(a, b) = gcd(b, a mod b) assuming a>b; base case: gcd(a, 0) = a)"
   ]
  },
  {
   "cell_type": "markdown",
   "id": "b5a9424e",
   "metadata": {},
   "source": [
    "#\n",
    "#\n",
    "#\n",
    "#\n",
    "# Solved Answers"
   ]
  },
  {
   "cell_type": "code",
   "execution_count": 6,
   "id": "1e81bee2",
   "metadata": {},
   "outputs": [
    {
     "name": "stdout",
     "output_type": "stream",
     "text": [
      "          *\n",
      "         ***\n",
      "        *****\n",
      "       *******\n",
      "      *********\n",
      "     ***********\n",
      "    *************\n",
      "   ***************\n",
      "  *****************\n",
      " *******************\n"
     ]
    }
   ],
   "source": [
    "#Nested For\n",
    "n=10\n",
    "for i in range(n):\n",
    "    for j in range(n-i):\n",
    "        print(' ', end='')  #end='' means not to put a newline after printing\n",
    "    for j in range(2*i+1):\n",
    "        print('*', end='')\n",
    "    print() # we printed all spaces and stars needed in a line. Now just print a newline character"
   ]
  },
  {
   "cell_type": "code",
   "execution_count": 7,
   "id": "ee0c4a0e",
   "metadata": {},
   "outputs": [
    {
     "name": "stdout",
     "output_type": "stream",
     "text": [
      "          *\n",
      "         ***\n",
      "        *****\n",
      "       *******\n",
      "      *********\n",
      "     ***********\n",
      "    *************\n",
      "   ***************\n",
      "  *****************\n",
      " *******************\n"
     ]
    }
   ],
   "source": [
    "#Nested while\n",
    "n=10\n",
    "i=0\n",
    "while i < n:\n",
    "    j=0\n",
    "    while j<(n-i):\n",
    "        print(' ', end='')  #end='' means not to put a newline after printing\n",
    "        j += 1\n",
    "    j=0\n",
    "    while j < (2*i+1):\n",
    "        print('*', end='')\n",
    "        j+= 1\n",
    "        \n",
    "    print() # we printed all spaces and stars needed in a line. Now just print a newline character\n",
    "    i += 1"
   ]
  },
  {
   "cell_type": "code",
   "execution_count": 8,
   "id": "d186331a",
   "metadata": {},
   "outputs": [
    {
     "name": "stdout",
     "output_type": "stream",
     "text": [
      "          *\n",
      "         ***\n",
      "        *****\n",
      "       *******\n",
      "      *********\n",
      "     ***********\n",
      "    *************\n",
      "   ***************\n",
      "  *****************\n",
      " *******************\n"
     ]
    }
   ],
   "source": [
    "#Nested repeat...until\n",
    "n=10\n",
    "i=0\n",
    "while True:\n",
    "    j=0\n",
    "    while True:\n",
    "        print(' ', end='')  #end='' means not to put a newline after printing\n",
    "        j += 1\n",
    "        if j>=(n-i):\n",
    "            break\n",
    "    j=0\n",
    "    while True:\n",
    "        print('*', end='')\n",
    "        j+= 1\n",
    "        if j>=(2*i+1):\n",
    "            break\n",
    "        \n",
    "    print() # we printed all spaces and stars needed in a line. Now just print a newline character\n",
    "    i += 1\n",
    "    if i>=n:\n",
    "        break"
   ]
  },
  {
   "cell_type": "markdown",
   "id": "d12d4636",
   "metadata": {},
   "source": [
    "## Solutions - Functions"
   ]
  },
  {
   "cell_type": "code",
   "execution_count": 9,
   "id": "c66d2bb5",
   "metadata": {},
   "outputs": [
    {
     "name": "stdout",
     "output_type": "stream",
     "text": [
      "1\n",
      "2\n",
      "3\n",
      "5\n",
      "7\n",
      "11\n",
      "13\n",
      "17\n",
      "19\n",
      "23\n",
      "29\n",
      "31\n",
      "37\n",
      "41\n",
      "43\n",
      "47\n",
      "53\n",
      "59\n",
      "61\n",
      "67\n",
      "71\n",
      "73\n",
      "79\n",
      "83\n",
      "89\n",
      "97\n"
     ]
    }
   ],
   "source": [
    "#Prime number\n",
    "def check_prime(n):\n",
    "    for i in range (2, n):\n",
    "        if n%i == 0:\n",
    "            return False\n",
    "    return True\n",
    "\n",
    "def find_primes(n):\n",
    "    for i in range(1,n):\n",
    "        if check_prime(i) == True:\n",
    "            print(i)\n",
    "\n",
    "find_primes(100)"
   ]
  },
  {
   "cell_type": "markdown",
   "id": "c3172571",
   "metadata": {},
   "source": [
    "## Solutions - Recursion"
   ]
  },
  {
   "cell_type": "code",
   "execution_count": 10,
   "id": "fdb6ee26",
   "metadata": {},
   "outputs": [
    {
     "name": "stdout",
     "output_type": "stream",
     "text": [
      "fact( 5 ) started\n",
      "fact( 4 ) started\n",
      "fact( 3 ) started\n",
      "fact( 2 ) started\n",
      "fact( 1 ) started\n",
      "fact( 0 ) started\n",
      "fact( 0 ) finished with return  1\n",
      "fact( 1 ) finished with return  1\n",
      "fact( 2 ) finished with return  2\n",
      "fact( 3 ) finished with return  6\n",
      "fact( 4 ) finished with return  24\n",
      "fact( 5 ) finished with return  120\n",
      "Result: 120\n"
     ]
    }
   ],
   "source": [
    "#Factorial with print tracing\n",
    "def fact(n):\n",
    "    print(\"fact(\",n,\") started\")\n",
    "    if n==0:\n",
    "        f = 1\n",
    "    else:\n",
    "        f = n* fact(n-1)\n",
    "    print(\"fact(\", n, \")\", \"finished with return \", f)\n",
    "    return f\n",
    "n=5\n",
    "print(\"Result:\",fact(5))"
   ]
  },
  {
   "cell_type": "code",
   "execution_count": 11,
   "id": "5a263ce7",
   "metadata": {},
   "outputs": [
    {
     "name": "stdout",
     "output_type": "stream",
     "text": [
      "sum_right( [1, 5, 3, 7] ) started\n",
      "sum_right( [5, 3, 7] ) started\n",
      "sum_right( [3, 7] ) started\n",
      "sum_right( [7] ) started\n",
      "sum_right( [7] ) finished with return  7\n",
      "sum_right( [3, 7] ) finished with return  10\n",
      "sum_right( [5, 3, 7] ) finished with return  15\n",
      "sum_right( [1, 5, 3, 7] ) finished with return  16\n",
      "Result: 16\n"
     ]
    }
   ],
   "source": [
    "#Sum of elements of list\n",
    "def sum_right(L):\n",
    "    print(\"sum_right(\",L,\") started\")\n",
    "    if len(L) > 1:\n",
    "        out = L[0] + sum_right(L[1:])  #Recursive case\n",
    "    else:\n",
    "        out = L[0] #Base case\n",
    "    print(\"sum_right(\", L, \")\", \"finished with return \", out)\n",
    "    return out\n",
    "\n",
    "print(\"Result:\", sum_right([1, 5,3,7]))"
   ]
  },
  {
   "cell_type": "code",
   "execution_count": 12,
   "id": "d94d5e3d",
   "metadata": {},
   "outputs": [
    {
     "name": "stdout",
     "output_type": "stream",
     "text": [
      "add( 5 7 ) started\n",
      "add( 6 6 ) started\n",
      "add( 7 5 ) started\n",
      "add( 8 4 ) started\n",
      "add( 9 3 ) started\n",
      "add( 10 2 ) started\n",
      "add( 11 1 ) started\n",
      "add( 12 0 ) started\n",
      "add( 12 0 ) finished with return  12\n",
      "add( 11 1 ) finished with return  12\n",
      "add( 10 2 ) finished with return  12\n",
      "add( 9 3 ) finished with return  12\n",
      "add( 8 4 ) finished with return  12\n",
      "add( 7 5 ) finished with return  12\n",
      "add( 6 6 ) finished with return  12\n",
      "add( 5 7 ) finished with return  12\n",
      "Result: 12\n"
     ]
    }
   ],
   "source": [
    "#Addition\n",
    "def add(a,b):\n",
    "    print(\"add(\",a, b,\") started\")\n",
    "    if b>0:\n",
    "        out = add(a+1, b-1) #Recursive case\n",
    "    else:\n",
    "        out = a #Base case\n",
    "    print(\"add(\", a, b, \")\", \"finished with return \", out)\n",
    "    return out\n",
    "print(\"Result:\", add(5, 7))"
   ]
  },
  {
   "cell_type": "code",
   "execution_count": 13,
   "id": "28b076f4",
   "metadata": {},
   "outputs": [
    {
     "name": "stdout",
     "output_type": "stream",
     "text": [
      "prod( 5 7 ) started\n",
      "prod( 5 6 ) started\n",
      "prod( 5 5 ) started\n",
      "prod( 5 4 ) started\n",
      "prod( 5 3 ) started\n",
      "prod( 5 2 ) started\n",
      "prod( 5 1 ) started\n",
      "prod( 5 0 ) started\n",
      "prod( 5 0 ) finished with return  0\n",
      "prod( 5 1 ) finished with return  5\n",
      "prod( 5 2 ) finished with return  10\n",
      "prod( 5 3 ) finished with return  15\n",
      "prod( 5 4 ) finished with return  20\n",
      "prod( 5 5 ) finished with return  25\n",
      "prod( 5 6 ) finished with return  30\n",
      "prod( 5 7 ) finished with return  35\n",
      "Result: 35\n"
     ]
    }
   ],
   "source": [
    "#Multiplication\n",
    "def prod(a,b):\n",
    "    print(\"prod(\",a, b,\") started\")\n",
    "    if b>0:\n",
    "        out = a + prod(a,b-1)\n",
    "    else:\n",
    "        out = 0\n",
    "    print(\"prod(\", a, b, \")\", \"finished with return \", out)\n",
    "    return out\n",
    "\n",
    "print(\"Result:\", prod(5, 7))"
   ]
  },
  {
   "cell_type": "code",
   "execution_count": 14,
   "id": "ec601fd1",
   "metadata": {},
   "outputs": [
    {
     "name": "stdout",
     "output_type": "stream",
     "text": [
      "gcd( 3 6 ) started\n",
      "gcd( 6 3 ) started\n",
      "gcd( 3 0 ) started\n",
      "gcd( 3 0 ) finished with return  3\n",
      "gcd( 6 3 ) finished with return  3\n",
      "gcd( 3 6 ) finished with return  3\n",
      "Result: 3\n"
     ]
    }
   ],
   "source": [
    "#GCD\n",
    "def gcd(a,b):\n",
    "    print(\"gcd(\",a, b,\") started\")\n",
    "    if b>0:\n",
    "        out = gcd(b, a%b)\n",
    "    else:\n",
    "        out = a\n",
    "    print(\"gcd(\", a, b, \")\", \"finished with return \", out)\n",
    "    return out\n",
    "print(\"Result:\", gcd(3, 6))"
   ]
  }
 ],
 "metadata": {
  "kernelspec": {
   "display_name": "Python 3 (ipykernel)",
   "language": "python",
   "name": "python3"
  },
  "language_info": {
   "codemirror_mode": {
    "name": "ipython",
    "version": 3
   },
   "file_extension": ".py",
   "mimetype": "text/x-python",
   "name": "python",
   "nbconvert_exporter": "python",
   "pygments_lexer": "ipython3",
   "version": "3.12.3"
  }
 },
 "nbformat": 4,
 "nbformat_minor": 5
}
